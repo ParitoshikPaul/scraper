{
 "cells": [
  {
   "cell_type": "code",
   "execution_count": 1,
   "metadata": {},
   "outputs": [
    {
     "name": "stdout",
     "output_type": "stream",
     "text": [
      "Enter a string: hi\n"
     ]
    }
   ],
   "source": [
    "a = input(\"Enter a string: \")"
   ]
  },
  {
   "cell_type": "code",
   "execution_count": 2,
   "metadata": {},
   "outputs": [
    {
     "name": "stdout",
     "output_type": "stream",
     "text": [
      "Enter a string: hello WORld\n",
      "Old String:  hello WORld\n",
      "Capitalized String: Hello world\n"
     ]
    }
   ],
   "source": [
    "#1st capitalize method to be performed on string\n",
    "a = input(\"Enter a string: \")\n",
    "capital_string = a.capitalize()\n",
    "print('Old String: ', a)\n",
    "print('Capitalized String:', capital_string)"
   ]
  },
  {
   "cell_type": "code",
   "execution_count": 3,
   "metadata": {},
   "outputs": [
    {
     "name": "stdout",
     "output_type": "stream",
     "text": [
      "Enter a string: hi rachel\n",
      "Centered String:  *****hi rachel******\n"
     ]
    }
   ],
   "source": [
    "#2nd center method to be performed on string\n",
    "a = input(\"Enter a string: \")\n",
    "new_string = a.center(20, '*')\n",
    "print(\"Centered String: \", new_string)"
   ]
  },
  {
   "cell_type": "code",
   "execution_count": 4,
   "metadata": {},
   "outputs": [
    {
     "name": "stdout",
     "output_type": "stream",
     "text": [
      "Enter a string: watch Friends\n",
      "Enter substring: e\n",
      "The count is: 1\n",
      "The count after first substring and last substring:  1\n"
     ]
    }
   ],
   "source": [
    "#3rd count method (:returns the number of occurrences of a substring in the given string) to be performed on string\n",
    "a = input(\"Enter a string: \")\n",
    "substring = input(\"Enter substring: \")\n",
    "count = a.count(substring)\n",
    "print(\"The count is:\", count)\n",
    "\n",
    "# count after first substring and before the last substring\n",
    "l = len(a)\n",
    "c = a.index(substring)\n",
    "count = a.count(substring, c, l)\n",
    "print(\"The count after first substring and last substring: \", count)"
   ]
  },
  {
   "cell_type": "code",
   "execution_count": 1,
   "metadata": {},
   "outputs": [
    {
     "name": "stdout",
     "output_type": "stream",
     "text": [
      "Enter a string: hey paridhi. how's the new office/\n",
      "Enter substring: h\n",
      "Enter start argument: 2\n",
      "Enter end argument: 10\n",
      "String after indexing is:  9\n"
     ]
    }
   ],
   "source": [
    "#4th index method to be performed on string\n",
    "a = input(\"Enter a string: \")\n",
    "substring = input(\"Enter substring: \")\n",
    "s = int(input(\"Enter start argument: \"))\n",
    "e = int(input(\"Enter end argument: \"))\n",
    "print(\"String after indexing is: \", a.index(substring,s,e))"
   ]
  },
  {
   "cell_type": "code",
   "execution_count": 16,
   "metadata": {},
   "outputs": [
    {
     "name": "stdout",
     "output_type": "stream",
     "text": [
      "Enter your name: adam\n",
      "Enter your designation: manager\n",
      "Hello adam, your designation is manager.\n"
     ]
    }
   ],
   "source": [
    "#5th format() method\n",
    "name = input(\"Enter your name: \")\n",
    "designation = input(\"Enter your designation: \")\n",
    "print(\"Hello {n}, your designation is {d}.\".format(n = name, d = designation))"
   ]
  },
  {
   "cell_type": "code",
   "execution_count": 12,
   "metadata": {},
   "outputs": [
    {
     "name": "stdout",
     "output_type": "stream",
     "text": [
      "Enter a string: hi rachel. how u doin\n",
      "Enter substring: is\n",
      "False\n",
      "endswith() method with arguments:\n",
      "Enter start argument: 2\n",
      "Enter end argument: 9\n",
      "False\n"
     ]
    }
   ],
   "source": [
    "#6th The endswith() method returns True if a string ends with the specified suffix. If not, it returns False.\n",
    "a = input(\"Enter a string: \")\n",
    "substring = input(\"Enter substring: \")\n",
    "print(a.endswith(substring))\n",
    "print(\"\\n endswith() method with arguments:\")\n",
    "s = int(input(\"Enter start argument: \"))\n",
    "e = int(input(\"Enter end argument: \"))\n",
    "print(a.endswith(substring,s,e))"
   ]
  },
  {
   "cell_type": "code",
   "execution_count": 1,
   "metadata": {},
   "outputs": [
    {
     "name": "stdout",
     "output_type": "stream",
     "text": [
      "Enter a string: hey phoebe\n",
      "False\n"
     ]
    }
   ],
   "source": [
    "#7th isalnum() method\n",
    "a = input(\"Enter a string: \")\n",
    "print(a.isalnum())"
   ]
  },
  {
   "cell_type": "code",
   "execution_count": 2,
   "metadata": {},
   "outputs": [
    {
     "name": "stdout",
     "output_type": "stream",
     "text": [
      "Enter a string: hey monica72 geller\n",
      "False\n"
     ]
    }
   ],
   "source": [
    "#8th isalpha() method\n",
    "a = input(\"Enter a string: \")\n",
    "print(a.isalpha())"
   ]
  },
  {
   "cell_type": "code",
   "execution_count": 6,
   "metadata": {},
   "outputs": [
    {
     "name": "stdout",
     "output_type": "stream",
     "text": [
      "Enter a string: 7625.87\n",
      "False\n"
     ]
    }
   ],
   "source": [
    "#9th isdecimal() method\n",
    "a = input(\"Enter a string: \")\n",
    "print(a.isdecimal())"
   ]
  },
  {
   "cell_type": "code",
   "execution_count": 7,
   "metadata": {},
   "outputs": [
    {
     "name": "stdout",
     "output_type": "stream",
     "text": [
      "Enter a string: 78653\n",
      "True\n"
     ]
    }
   ],
   "source": [
    "#10th isdigit() method\n",
    "a = input(\"Enter a string: \")\n",
    "print(a.isdigit())"
   ]
  }
 ],
 "metadata": {
  "kernelspec": {
   "display_name": "Python 3",
   "language": "python",
   "name": "python3"
  },
  "language_info": {
   "codemirror_mode": {
    "name": "ipython",
    "version": 3
   },
   "file_extension": ".py",
   "mimetype": "text/x-python",
   "name": "python",
   "nbconvert_exporter": "python",
   "pygments_lexer": "ipython3",
   "version": "3.7.3"
  }
 },
 "nbformat": 4,
 "nbformat_minor": 2
}
